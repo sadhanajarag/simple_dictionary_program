{
 "cells": [
  {
   "cell_type": "markdown",
   "id": "89a929eb-aa1d-4e0a-83c3-763fa5f0b8e5",
   "metadata": {},
   "source": [
    "### Write a program that creates a dictionary containing course numbers and the room numbers of the rooms where the courses meet. The dictionary should have the following key-value pairs:"
   ]
  },
  {
   "cell_type": "code",
   "execution_count": 5,
   "id": "33ba02fa-6fc0-401c-85bc-25eafb63d2d1",
   "metadata": {},
   "outputs": [],
   "source": [
    "dict = {\"Course Number\":['CSC101','CSC101','CSC103','NET110','COM241'],\"Room Number\":[3004,4501,4501,1244,1411]}"
   ]
  },
  {
   "cell_type": "code",
   "execution_count": 7,
   "id": "c35c68bc-3823-4db3-b22e-ecca68ef40ed",
   "metadata": {},
   "outputs": [
    {
     "data": {
      "text/plain": [
       "{'Course Number': ['CSC101', 'CSC102', 'CSC103', 'NET110', 'COM241'],\n",
       " 'Room Number': [3004, 4501, 4501, 1244, 1411]}"
      ]
     },
     "execution_count": 7,
     "metadata": {},
     "output_type": "execute_result"
    }
   ],
   "source": [
    "dict"
   ]
  },
  {
   "cell_type": "code",
   "execution_count": 27,
   "id": "9e1e4deb-180d-42a4-8ed4-ae6e8d53dd18",
   "metadata": {},
   "outputs": [],
   "source": [
    "course_room = {\n",
    "    'CSC101':[3004,\"Haynes\",\"8:00 a.m\"],\n",
    "    'CSC102':[4501,\"Alvarado\",\"9:00 a.m.\"],\n",
    "    'CSC103':[6755,\"Rich\",\"10:00 a.m.\"],\n",
    "    'NET110':[1244,\"Burke\",\"11:00 a.m.\"],\n",
    "    'COM241':[1411,\"Lee\",\"1:00 p.m.\"]\n",
    "}"
   ]
  },
  {
   "cell_type": "code",
   "execution_count": 39,
   "id": "32261e72-16b6-4152-ab4b-2f0a2b31aac4",
   "metadata": {},
   "outputs": [
    {
     "data": {
      "text/plain": [
       "3004"
      ]
     },
     "execution_count": 39,
     "metadata": {},
     "output_type": "execute_result"
    }
   ],
   "source": [
    "course_room[\"CSC101\"][0]"
   ]
  },
  {
   "cell_type": "code",
   "execution_count": 35,
   "id": "21a2fc80-278c-4809-a4d8-1f46624f1aa8",
   "metadata": {},
   "outputs": [
    {
     "ename": "TypeError",
     "evalue": "'dict_values' object is not subscriptable",
     "output_type": "error",
     "traceback": [
      "\u001b[1;31m---------------------------------------------------------------------------\u001b[0m",
      "\u001b[1;31mTypeError\u001b[0m                                 Traceback (most recent call last)",
      "Cell \u001b[1;32mIn[35], line 1\u001b[0m\n\u001b[1;32m----> 1\u001b[0m course_room\u001b[38;5;241m.\u001b[39mvalues()[\u001b[38;5;241m1\u001b[39m]\n",
      "\u001b[1;31mTypeError\u001b[0m: 'dict_values' object is not subscriptable"
     ]
    }
   ],
   "source": [
    "course_room"
   ]
  },
  {
   "cell_type": "code",
   "execution_count": 33,
   "id": "6a0621dd-8926-460e-bb3f-17e8dfd02c0b",
   "metadata": {},
   "outputs": [
    {
     "data": {
      "text/plain": [
       "dict_items([('CSC101', [3004, 'Haynes', '8:00 a.m']), ('CSC102', [4501, 'Alvarado', '9:00 a.m.']), ('CSC103', [6755, 'Rich', '10:00 a.m.']), ('NET110', [1244, 'Burke', '11:00 a.m.']), ('COM241', [1411, 'Lee', '1:00 p.m.'])])"
      ]
     },
     "execution_count": 33,
     "metadata": {},
     "output_type": "execute_result"
    }
   ],
   "source": [
    "course_room.items()"
   ]
  },
  {
   "cell_type": "code",
   "execution_count": null,
   "id": "ac024e9e-cd2d-4970-bc10-70023d37eaf9",
   "metadata": {},
   "outputs": [],
   "source": []
  }
 ],
 "metadata": {
  "kernelspec": {
   "display_name": "Python 3 (ipykernel)",
   "language": "python",
   "name": "python3"
  },
  "language_info": {
   "codemirror_mode": {
    "name": "ipython",
    "version": 3
   },
   "file_extension": ".py",
   "mimetype": "text/x-python",
   "name": "python",
   "nbconvert_exporter": "python",
   "pygments_lexer": "ipython3",
   "version": "3.11.7"
  }
 },
 "nbformat": 4,
 "nbformat_minor": 5
}
